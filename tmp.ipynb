{
 "cells": [
  {
   "attachments": {},
   "cell_type": "markdown",
   "metadata": {},
   "source": [
    "# import packages:"
   ]
  },
  {
   "cell_type": "code",
   "execution_count": 1,
   "metadata": {},
   "outputs": [],
   "source": [
    "import pandas as pd\n",
    "import datetime\n",
    "import numpy as np\n",
    "import urllib.request\n",
    "import zipfile\n",
    "import os\n",
    "import matplotlib.pyplot as plt\n",
    "# Time Series Clustering\n",
    "from tslearn.preprocessing import TimeSeriesScalerMeanVariance\n",
    "from tslearn.clustering import TimeSeriesKMeans"
   ]
  },
  {
   "attachments": {},
   "cell_type": "markdown",
   "metadata": {},
   "source": [
    "# download dataset and unzip file:"
   ]
  },
  {
   "cell_type": "code",
   "execution_count": 2,
   "metadata": {},
   "outputs": [],
   "source": [
    "# only download if file does not exist yet:\n",
    "if not os.path.exists('LD2011_2014.txt'):\n",
    "    # Define URL\n",
    "    URL = \"https://archive.ics.uci.edu/ml/machine-learning-databases/00321/LD2011_2014.txt.zip\"\n",
    "    # Download the file from `URL` and save it locally under `file_name`:\n",
    "    urllib.request.urlretrieve(URL, \"LD2011_2014.txt.zip\")\n",
    "    # Unzip file:\n",
    "    zip_ref = zipfile.ZipFile(\"LD2011_2014.txt.zip\", 'r')\n",
    "    zip_ref.extractall()\n",
    "    zip_ref.close()"
   ]
  },
  {
   "attachments": {},
   "cell_type": "markdown",
   "metadata": {},
   "source": [
    "# read dataset:"
   ]
  },
  {
   "cell_type": "code",
   "execution_count": 3,
   "metadata": {},
   "outputs": [
    {
     "name": "stdout",
     "output_type": "stream",
     "text": [
      "<class 'pandas.core.frame.DataFrame'>\n",
      "RangeIndex: 140256 entries, 0 to 140255\n",
      "Columns: 371 entries, Unnamed: 0 to MT_370\n",
      "dtypes: float64(370), object(1)\n",
      "memory usage: 397.0+ MB\n",
      "None\n",
      "            Unnamed: 0  MT_001  MT_002  MT_003  MT_004  MT_005  MT_006   \n",
      "0  2011-01-01 00:15:00     0.0     0.0     0.0     0.0     0.0     0.0  \\\n",
      "1  2011-01-01 00:30:00     0.0     0.0     0.0     0.0     0.0     0.0   \n",
      "2  2011-01-01 00:45:00     0.0     0.0     0.0     0.0     0.0     0.0   \n",
      "3  2011-01-01 01:00:00     0.0     0.0     0.0     0.0     0.0     0.0   \n",
      "4  2011-01-01 01:15:00     0.0     0.0     0.0     0.0     0.0     0.0   \n",
      "\n",
      "   MT_007  MT_008  MT_009  ...  MT_361  MT_362  MT_363  MT_364  MT_365   \n",
      "0     0.0     0.0     0.0  ...     0.0     0.0     0.0     0.0     0.0  \\\n",
      "1     0.0     0.0     0.0  ...     0.0     0.0     0.0     0.0     0.0   \n",
      "2     0.0     0.0     0.0  ...     0.0     0.0     0.0     0.0     0.0   \n",
      "3     0.0     0.0     0.0  ...     0.0     0.0     0.0     0.0     0.0   \n",
      "4     0.0     0.0     0.0  ...     0.0     0.0     0.0     0.0     0.0   \n",
      "\n",
      "   MT_366  MT_367  MT_368  MT_369  MT_370  \n",
      "0     0.0     0.0     0.0     0.0     0.0  \n",
      "1     0.0     0.0     0.0     0.0     0.0  \n",
      "2     0.0     0.0     0.0     0.0     0.0  \n",
      "3     0.0     0.0     0.0     0.0     0.0  \n",
      "4     0.0     0.0     0.0     0.0     0.0  \n",
      "\n",
      "[5 rows x 371 columns]\n"
     ]
    }
   ],
   "source": [
    "# open raw file downloaded to local machine:\n",
    "raw_file_path = 'LD2011_2014.txt'\n",
    "\n",
    "# use raw file to read csv and get raw dataframe:\n",
    "raw_dataset = pd.read_csv(raw_file_path, delimiter=';', header=0, decimal=',', index_col=False, low_memory=False)\n",
    "\n",
    "# check dataframe info and head:\n",
    "print(raw_dataset.info())\n",
    "print(raw_dataset.head())"
   ]
  },
  {
   "attachments": {},
   "cell_type": "markdown",
   "metadata": {},
   "source": [
    "# rename column containing dates' in string format and convert it to datetime format:"
   ]
  },
  {
   "cell_type": "code",
   "execution_count": 5,
   "metadata": {},
   "outputs": [
    {
     "name": "stdout",
     "output_type": "stream",
     "text": [
      "datetime     object\n",
      "MT_001      float64\n",
      "MT_002      float64\n",
      "MT_003      float64\n",
      "MT_004      float64\n",
      "             ...   \n",
      "MT_366      float64\n",
      "MT_367      float64\n",
      "MT_368      float64\n",
      "MT_369      float64\n",
      "MT_370      float64\n",
      "Length: 371, dtype: object\n",
      "float64           370\n",
      "datetime64[ns]      1\n",
      "Name: count, dtype: int64\n"
     ]
    }
   ],
   "source": [
    "# since column with datetime values doesn't have name, rename it to 'datetime':\n",
    "data_timecol = raw_dataset.rename(columns={'Unnamed: 0':'datetime'})\n",
    "\n",
    "# check dtypes for dataframe before converstion of 'datetime' column to datetime dtype:\n",
    "print(data_timecol.dtypes)\n",
    "\n",
    "# transform rennamed column into datetime dtype:\n",
    "data_timecol['datetime'] = pd.to_datetime(data_timecol['datetime'], format='%Y-%m-%d %H:%M:%S')\n",
    "\n",
    "# check if conversion was successful:\n",
    "print(data_timecol.dtypes.value_counts())"
   ]
  },
  {
   "attachments": {},
   "cell_type": "markdown",
   "metadata": {},
   "source": [
    "# resample data from 15min frequency to hourly frequency:"
   ]
  },
  {
   "cell_type": "code",
   "execution_count": 6,
   "metadata": {},
   "outputs": [
    {
     "name": "stdout",
     "output_type": "stream",
     "text": [
      "             datetime  MT_001  MT_002  MT_003  MT_004  MT_005  MT_006  MT_007   \n",
      "0 2011-01-01 00:00:00     0.0     0.0     0.0     0.0     0.0     0.0     0.0  \\\n",
      "1 2011-01-01 01:00:00     0.0     0.0     0.0     0.0     0.0     0.0     0.0   \n",
      "2 2011-01-01 02:00:00     0.0     0.0     0.0     0.0     0.0     0.0     0.0   \n",
      "3 2011-01-01 03:00:00     0.0     0.0     0.0     0.0     0.0     0.0     0.0   \n",
      "4 2011-01-01 04:00:00     0.0     0.0     0.0     0.0     0.0     0.0     0.0   \n",
      "\n",
      "   MT_008  MT_009  ...  MT_361  MT_362  MT_363  MT_364  MT_365  MT_366   \n",
      "0     0.0     0.0  ...     0.0     0.0     0.0     0.0     0.0     0.0  \\\n",
      "1     0.0     0.0  ...     0.0     0.0     0.0     0.0     0.0     0.0   \n",
      "2     0.0     0.0  ...     0.0     0.0     0.0     0.0     0.0     0.0   \n",
      "3     0.0     0.0  ...     0.0     0.0     0.0     0.0     0.0     0.0   \n",
      "4     0.0     0.0  ...     0.0     0.0     0.0     0.0     0.0     0.0   \n",
      "\n",
      "   MT_367  MT_368  MT_369  MT_370  \n",
      "0     0.0     0.0     0.0     0.0  \n",
      "1     0.0     0.0     0.0     0.0  \n",
      "2     0.0     0.0     0.0     0.0  \n",
      "3     0.0     0.0     0.0     0.0  \n",
      "4     0.0     0.0     0.0     0.0  \n",
      "\n",
      "[5 rows x 371 columns]\n"
     ]
    }
   ],
   "source": [
    "# resample data from 15min level to hourly level:\n",
    "data_resamp = data_timecol.resample('1H', on='datetime').sum().reset_index()\n",
    "\n",
    "# get length of data_resamp:\n",
    "data_resamp_length = len(data_resamp)\n",
    "\n",
    "# check to see if resampling went through:\n",
    "print(data_resamp.head())"
   ]
  },
  {
   "attachments": {},
   "cell_type": "markdown",
   "metadata": {},
   "source": [
    "# to get tidy dataframe, use melt to pivot dataframe and get it vertically stacked:"
   ]
  },
  {
   "cell_type": "code",
   "execution_count": 7,
   "metadata": {},
   "outputs": [
    {
     "name": "stdout",
     "output_type": "stream",
     "text": [
      "             datetime  client_id  KwH\n",
      "0 2011-01-01 00:00:00          1  0.0\n",
      "1 2011-01-01 01:00:00          1  0.0\n",
      "2 2011-01-01 02:00:00          1  0.0\n",
      "3 2011-01-01 03:00:00          1  0.0\n",
      "4 2011-01-01 04:00:00          1  0.0\n"
     ]
    }
   ],
   "source": [
    "resampled_data = data_resamp\n",
    "\n",
    "# stack dataset by melting it (the value_name col will be recalculated after):\n",
    "melted_data = pd.melt(resampled_data, id_vars=['datetime'], var_name='client_id', value_name='KwH')\n",
    "\n",
    "# Remove 'MT_' from client_id col:\n",
    "melted_data['client_id'] = melted_data['client_id'].str.replace('MT_', '').astype(int)\n",
    "print(melted_data.head())"
   ]
  },
  {
   "attachments": {},
   "cell_type": "markdown",
   "metadata": {},
   "source": [
    "# For client data that started late and ended early, get first and last nonzero dates for each client:"
   ]
  },
  {
   "cell_type": "code",
   "execution_count": 9,
   "metadata": {},
   "outputs": [
    {
     "name": "stdout",
     "output_type": "stream",
     "text": [
      "     client_id        min        max\n",
      "365        366 2012-01-01 2015-01-01\n",
      "366        367 2012-01-01 2015-01-01\n",
      "367        368 2012-01-01 2015-01-01\n",
      "368        369 2012-01-01 2015-01-01\n",
      "369        370 2013-01-01 2015-01-01\n",
      "             datetime  client_id  KwH\n",
      "0 2011-01-01 00:00:00          1  0.0\n",
      "1 2011-01-01 01:00:00          1  0.0\n",
      "2 2011-01-01 02:00:00          1  0.0\n",
      "3 2011-01-01 03:00:00          1  0.0\n",
      "4 2011-01-01 04:00:00          1  0.0\n"
     ]
    }
   ],
   "source": [
    "cutoff_dates = melted_data[melted_data['KwH'] != 0].groupby('client_id', as_index=False).agg(\n",
    "    min=('datetime','min'),\n",
    "    max=('datetime','max')\n",
    "    )\n",
    "\n",
    "print(cutoff_dates.tail())\n",
    "print(melted_data.head())"
   ]
  },
  {
   "attachments": {},
   "cell_type": "markdown",
   "metadata": {},
   "source": [
    "# if client presents empty rows at the start or the end of the dataframe, get rid of it:"
   ]
  },
  {
   "cell_type": "code",
   "execution_count": 10,
   "metadata": {},
   "outputs": [
    {
     "data": {
      "text/html": [
       "<div>\n",
       "<style scoped>\n",
       "    .dataframe tbody tr th:only-of-type {\n",
       "        vertical-align: middle;\n",
       "    }\n",
       "\n",
       "    .dataframe tbody tr th {\n",
       "        vertical-align: top;\n",
       "    }\n",
       "\n",
       "    .dataframe thead th {\n",
       "        text-align: right;\n",
       "    }\n",
       "</style>\n",
       "<table border=\"1\" class=\"dataframe\">\n",
       "  <thead>\n",
       "    <tr style=\"text-align: right;\">\n",
       "      <th></th>\n",
       "      <th>datetime</th>\n",
       "      <th>client_id</th>\n",
       "      <th>KwH</th>\n",
       "    </tr>\n",
       "  </thead>\n",
       "  <tbody>\n",
       "    <tr>\n",
       "      <th>8760</th>\n",
       "      <td>2012-01-01 00:00:00</td>\n",
       "      <td>1</td>\n",
       "      <td>12.690355</td>\n",
       "    </tr>\n",
       "    <tr>\n",
       "      <th>8761</th>\n",
       "      <td>2012-01-01 01:00:00</td>\n",
       "      <td>1</td>\n",
       "      <td>16.497462</td>\n",
       "    </tr>\n",
       "    <tr>\n",
       "      <th>8762</th>\n",
       "      <td>2012-01-01 02:00:00</td>\n",
       "      <td>1</td>\n",
       "      <td>19.035533</td>\n",
       "    </tr>\n",
       "    <tr>\n",
       "      <th>8763</th>\n",
       "      <td>2012-01-01 03:00:00</td>\n",
       "      <td>1</td>\n",
       "      <td>17.766497</td>\n",
       "    </tr>\n",
       "    <tr>\n",
       "      <th>8764</th>\n",
       "      <td>2012-01-01 04:00:00</td>\n",
       "      <td>1</td>\n",
       "      <td>19.035533</td>\n",
       "    </tr>\n",
       "  </tbody>\n",
       "</table>\n",
       "</div>"
      ],
      "text/plain": [
       "                datetime  client_id        KwH\n",
       "8760 2012-01-01 00:00:00          1  12.690355\n",
       "8761 2012-01-01 01:00:00          1  16.497462\n",
       "8762 2012-01-01 02:00:00          1  19.035533\n",
       "8763 2012-01-01 03:00:00          1  17.766497\n",
       "8764 2012-01-01 04:00:00          1  19.035533"
      ]
     },
     "execution_count": 10,
     "metadata": {},
     "output_type": "execute_result"
    }
   ],
   "source": [
    "tmp = melted_data.copy()\n",
    "\n",
    "def filter_rows_before_after_date(df, cutoff_dates):\n",
    "    df = df.merge(cutoff_dates, on='client_id', how='left')\n",
    "    df['is_before_start'] = df['datetime'] < df['min']\n",
    "    df['is_after_end'] = df['datetime'] > df['max']\n",
    "    df.drop(df[df.is_before_start == True].index, inplace=True)\n",
    "    df.drop(df[df.is_after_end == True].index, inplace=True)\n",
    "    df.drop(['is_before_start', 'is_after_end', 'min', 'max'], axis=1, inplace=True)\n",
    "    return df\n",
    "\n",
    "melted_data = filter_rows_before_after_date(melted_data, cutoff_dates)\n",
    "melted_data.head()"
   ]
  },
  {
   "attachments": {},
   "cell_type": "markdown",
   "metadata": {},
   "source": [
    "# round 'KwH' values to 2 decimals and check for zero values that would not be registered as NaN originally because of near-zero instances:"
   ]
  },
  {
   "cell_type": "code",
   "execution_count": 11,
   "metadata": {},
   "outputs": [
    {
     "name": "stdout",
     "output_type": "stream",
     "text": [
      "client_id\n",
      "132    19073\n",
      "131    15653\n",
      "347    15638\n",
      "130    14213\n",
      "348    12189\n",
      "15      2640\n",
      "66      2339\n",
      "133     1945\n",
      "127     1065\n",
      "288      523\n",
      "3        149\n",
      "123       50\n",
      "1         38\n",
      "340       38\n",
      "57        32\n",
      "143       32\n",
      "346       31\n",
      "370       30\n",
      "336       29\n",
      "151       28\n",
      "dtype: int64\n"
     ]
    }
   ],
   "source": [
    "hard_zero_counts = melted_data[melted_data['KwH'] == 0].groupby('client_id').size().sort_values(ascending=False)\n",
    "\n",
    "print(hard_zero_counts.head(20))"
   ]
  },
  {
   "cell_type": "code",
   "execution_count": 12,
   "metadata": {},
   "outputs": [
    {
     "name": "stdout",
     "output_type": "stream",
     "text": [
      "           zero_counts  client_counts  zero_counts_ratio\n",
      "client_id                                               \n",
      "347            15638.0          25981              60.19\n",
      "132            19073.0          35065              54.39\n",
      "130            14213.0          26305              54.03\n",
      "348            12189.0          26304              46.34\n",
      "131            15653.0          35065              44.64\n",
      "133             1945.0           7041              27.62\n",
      "15              2640.0          13811              19.12\n",
      "66              2339.0          26305               8.89\n",
      "127             1065.0          21937               4.85\n",
      "288              523.0          35065               1.49\n",
      "3                149.0          26305               0.57\n",
      "178               23.0           4009               0.57\n",
      "181               23.0           7249               0.32\n",
      "337               23.0           8377               0.27\n",
      "179               23.0           9049               0.25\n",
      "123               50.0          26305               0.19\n",
      "370               30.0          17521               0.17\n",
      "340               38.0          26305               0.14\n",
      "1                 38.0          26305               0.14\n",
      "143               32.0          26305               0.12\n"
     ]
    }
   ],
   "source": [
    "# create new column 'KwH_round' round and round values to 2 decimals:\n",
    "melted_data['KwH_round'] = melted_data['KwH'].round(2)\n",
    "\n",
    "# check size of zero values in KwH_round column for each client_id:\n",
    "zero_counts = melted_data[melted_data['KwH_round'] == 0].groupby('client_id').size()\n",
    "\n",
    "# drop KwH_round column:\n",
    "melted_data.drop('KwH_round', axis=1, inplace=True)\n",
    "\n",
    "# sort values in descending order:\n",
    "zero_counts = zero_counts.sort_values(ascending=False)\n",
    "\n",
    "# get number of observations for each client_id:\n",
    "client_counts = melted_data.groupby('client_id').size()\n",
    "\n",
    "# combine zero_counts and client_counts into zero_counts_df:\n",
    "zero_counts_df = pd.DataFrame({'zero_counts': zero_counts, 'client_counts': client_counts})\n",
    "\n",
    "# create new column 'zero_counts_ratio' and calculate ratio of zero_counts to client_counts:\n",
    "zero_counts_df['zero_counts_ratio'] = (zero_counts_df['zero_counts'] * 100 / zero_counts_df['client_counts']).round(2)\n",
    "\n",
    "# sort values in descending order:\n",
    "zero_counts_df = zero_counts_df.sort_values(by='zero_counts_ratio', ascending=False)\n",
    "\n",
    "# check zero_counts_df:\n",
    "print(zero_counts_df.head(20))\n"
   ]
  },
  {
   "cell_type": "code",
   "execution_count": 13,
   "metadata": {},
   "outputs": [
    {
     "name": "stdout",
     "output_type": "stream",
     "text": [
      "                    datetime  client_id           KwH   mov_avg_24h\n",
      "12974040 2014-12-31 15:00:00        370  57513.513514  70704.954955\n",
      "12974041 2014-12-31 16:00:00        370  49837.837838  69198.198198\n",
      "12974042 2014-12-31 17:00:00        370  46432.432432  67718.468468\n",
      "12974043 2014-12-31 18:00:00        370  40540.540541  66141.891892\n",
      "12974044 2014-12-31 19:00:00        370  35891.891892  64218.468468\n",
      "12974045 2014-12-31 20:00:00        370  33621.621622  62430.180180\n",
      "12974046 2014-12-31 21:00:00        370  33135.135135  60623.873874\n",
      "12974047 2014-12-31 22:00:00        370  30378.378378  58765.765766\n",
      "12974048 2014-12-31 23:00:00        370  27729.729730  56912.162162\n",
      "12974049 2015-01-01 00:00:00        370   7135.135135  54317.567568\n"
     ]
    }
   ],
   "source": [
    "# if 'mov_avg_24h' doesn't exist, create rolling window of 24 hours:\n",
    "if 'mov_avg_24h' not in melted_data.columns:\n",
    "    melted_data['mov_avg_24h'] = melted_data.groupby('client_id')['KwH'].rolling(24).mean().reset_index(0,drop=True)\n",
    "\n",
    "# check data:\n",
    "print(melted_data.tail(10))"
   ]
  },
  {
   "attachments": {},
   "cell_type": "markdown",
   "metadata": {},
   "source": [
    "## Use Case: Finding groups of clients with similar consumption patterns\n",
    "\n",
    "* First Step: Apply Dynamic Time Warping (DTW) with DBA (Dynamic Barycenter Averaging) to find groups of clients with similar consumption patterns.\n",
    "* Second Step: Apply K-Means to find groups of clients with similar consumption patterns. (Find optimal number of clusters)\n",
    "* Third Step: Get a dataframe with clients' IDs and their respective groups.\n",
    "* Fourth Step: Identify patterns of consumption for each group."
   ]
  },
  {
   "cell_type": "code",
   "execution_count": 50,
   "metadata": {},
   "outputs": [],
   "source": [
    "# Get most recent date in cutoff_dates['max']:\n",
    "max_date = cutoff_dates['max'].max()\n",
    "# filter clients with max_data prior to max_date:\n",
    "non_active_clients_list = cutoff_dates[cutoff_dates['max'] < max_date]['client_id'].unique().tolist()\n",
    "active_clients_list = set(cutoff_dates['client_id'].unique().tolist()) - set(non_active_clients_list)\n",
    "active_clients = melted_data[\n",
    "    melted_data['client_id'].isin(active_clients_list)\n",
    "]    \n",
    "#\n",
    "client_df = pd.DataFrame(\n",
    "    {'client_id': active_clients['client_id'].unique()}\n",
    ")\n",
    "# Let's get one week of data for each client:\n",
    "active_clients = active_clients[active_clients['datetime'] >= max_date - pd.DateOffset(weeks=1)]"
   ]
  },
  {
   "cell_type": "code",
   "execution_count": 51,
   "metadata": {},
   "outputs": [
    {
     "data": {
      "text/plain": [
       "(367, 169, 1)"
      ]
     },
     "execution_count": 51,
     "metadata": {},
     "output_type": "execute_result"
    }
   ],
   "source": [
    "# transform active_clients dataframe into a numpy array with (n_ts_test, sz, d) format, that means: number of time series, their size and their dimensionality (1).\n",
    "active_clients_tslearn_format = active_clients.groupby('client_id')['KwH'].apply(list).values.tolist()\n",
    "active_clients_tslearn_format = np.array(active_clients_tslearn_format)\n",
    "sz = active_clients_tslearn_format.shape[1]\n",
    "active_clients_tslearn_format = active_clients_tslearn_format.reshape(-1, sz, 1)\n",
    "active_clients_tslearn_format.shape"
   ]
  },
  {
   "cell_type": "code",
   "execution_count": 52,
   "metadata": {},
   "outputs": [
    {
     "name": "stdout",
     "output_type": "stream",
     "text": [
      "82.492 --> 53.899 --> 52.696 --> 51.163 --> 50.470 --> 50.206 --> 50.156 --> 50.074 --> 49.947 --> 49.932 --> 49.932 --> \n"
     ]
    }
   ],
   "source": [
    "seed = 0\n",
    "# Scale the data:\n",
    "scaler = TimeSeriesScalerMeanVariance(mu=0., std=1.)  # Rescale time series\n",
    "active_clients_tslearn_format = scaler.fit_transform(active_clients_tslearn_format)\n",
    "km = TimeSeriesKMeans(n_clusters=3, verbose=True, random_state=seed)\n",
    "y_pred = km.fit_predict(active_clients_tslearn_format)\n",
    "client_df['client_groups'] = y_pred"
   ]
  },
  {
   "cell_type": "code",
   "execution_count": 55,
   "metadata": {},
   "outputs": [
    {
     "data": {
      "image/png": "[encoded data removed]",
      "text/plain": [
       "<Figure size 640x480 with 3 Axes>"
      ]
     },
     "metadata": {},
     "output_type": "display_data"
    }
   ],
   "source": [
    "plt.figure()\n",
    "for yi in range(3):\n",
    "    plt.subplot(3, 3, yi + 1)\n",
    "    for xx in active_clients_tslearn_format[y_pred == yi]:\n",
    "        plt.plot(xx.ravel(), \"k-\", alpha=.2)\n",
    "    plt.plot(km.cluster_centers_[yi].ravel(), \"r-\")\n",
    "    plt.xlim(0, sz)\n",
    "    plt.ylim(-4, 4)\n",
    "    plt.text(0.55, 0.85,'Cluster %d' % (yi + 1),\n",
    "             transform=plt.gca().transAxes)\n",
    "    if yi == 1:\n",
    "        plt.title(\"Euclidean $k$-means with Dynamic Time Warping (DTW)\")"
   ]
  },
  {
   "cell_type": "code",
   "execution_count": null,
   "metadata": {},
   "outputs": [],
   "source": []
  }
 ],
 "metadata": {
  "kernelspec": {
   "display_name": ".venv",
   "language": "python",
   "name": "python3"
  },
  "language_info": {
   "codemirror_mode": {
    "name": "ipython",
    "version": 3
   },
   "file_extension": ".py",
   "mimetype": "text/x-python",
   "name": "python",
   "nbconvert_exporter": "python",
   "pygments_lexer": "ipython3",
   "version": "3.10.6"
  },
  "orig_nbformat": 4
 },
 "nbformat": 4,
 "nbformat_minor": 2
}
