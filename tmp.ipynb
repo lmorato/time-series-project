{
 "cells": [
  {
   "attachments": {},
   "cell_type": "markdown",
   "metadata": {},
   "source": [
    "# import packages:"
   ]
  },
  {
   "cell_type": "code",
   "execution_count": 5,
   "metadata": {},
   "outputs": [],
   "source": [
    "import pandas as pd\n",
    "import datetime\n",
    "import numpy as np"
   ]
  },
  {
   "attachments": {},
   "cell_type": "markdown",
   "metadata": {},
   "source": [
    "# download dataset and unzip file:"
   ]
  },
  {
   "cell_type": "code",
   "execution_count": 7,
   "metadata": {},
   "outputs": [],
   "source": [
    "# Define URL\n",
    "URL = \"https://archive.ics.uci.edu/ml/machine-learning-databases/00321/LD2011_2014.txt.zip\"\n",
    "\n",
    "# Download the data and unzip it using Python\n",
    "import urllib.request\n",
    "import zipfile\n",
    "import io\n",
    "\n",
    "# Download the file from `URL` and save it locally under `file_name`:\n",
    "urllib.request.urlretrieve(URL, \"LD2011_2014.txt.zip\")\n",
    "\n",
    "# Unzip file:\n",
    "zip_ref = zipfile.ZipFile(\"LD2011_2014.txt.zip\", 'r')\n",
    "zip_ref.extractall()\n",
    "zip_ref.close()"
   ]
  },
  {
   "attachments": {},
   "cell_type": "markdown",
   "metadata": {},
   "source": [
    "# read dataset:"
   ]
  },
  {
   "cell_type": "code",
   "execution_count": 8,
   "metadata": {},
   "outputs": [],
   "source": [
    "# open raw file downloaded to local machine:\n",
    "raw_file_path = 'LD2011_2014.txt'\n",
    "\n",
    "# use raw file to read csv and get raw dataframe:\n",
    "raw_dataset = pd.read_csv(raw_file_path, delimiter=';', header=0, decimal=',', index_col=False, low_memory=False)\n",
    "\n",
    "# check dataframe info and head:\n",
    "print(raw_dataset.info())\n",
    "print(raw_dataset.head())"
   ]
  },
  {
   "attachments": {},
   "cell_type": "markdown",
   "metadata": {},
   "source": [
    "# rename column containing dates' in string format and convert it to datetime format:"
   ]
  },
  {
   "cell_type": "code",
   "execution_count": 20,
   "metadata": {},
   "outputs": [
    {
     "name": "stdout",
     "output_type": "stream",
     "text": [
      "datetime     object\n",
      "MT_001      float64\n",
      "MT_002      float64\n",
      "MT_003      float64\n",
      "MT_004      float64\n",
      "             ...   \n",
      "MT_366      float64\n",
      "MT_367      float64\n",
      "MT_368      float64\n",
      "MT_369      float64\n",
      "MT_370      float64\n",
      "Length: 371, dtype: object\n"
     ]
    }
   ],
   "source": [
    "# since column with datetime values doesn't have name, rename it to 'datetime':\n",
    "data_timecol = raw_dataset.rename(columns={'Unnamed: 0':'datetime'})\n",
    "\n",
    "# check dtypes for dataframe before converstion of 'datetime' column to datetime dtype:\n",
    "print(data_timecol.dtypes)\n",
    "\n",
    "# transform rennamed column into datetime dtype:\n",
    "data_timecol['datetime'] = pd.to_datetime(data_timecol['datetime'], format='%Y-%m-%d %H:%M:%S')\n",
    "\n",
    "# check if conversion was successful:\n",
    "print(data_timecol.dtypes.value_counts())"
   ]
  },
  {
   "attachments": {},
   "cell_type": "markdown",
   "metadata": {},
   "source": [
    "# resample data from 15min frequency to hourly frequency:"
   ]
  },
  {
   "cell_type": "code",
   "execution_count": 12,
   "metadata": {},
   "outputs": [
    {
     "name": "stdout",
     "output_type": "stream",
     "text": [
      "             datetime  MT_001  MT_002  MT_003  MT_004  MT_005  MT_006  MT_007   \n",
      "0 2011-01-01 00:00:00     0.0     0.0     0.0     0.0     0.0     0.0     0.0  \\\n",
      "1 2011-01-01 01:00:00     0.0     0.0     0.0     0.0     0.0     0.0     0.0   \n",
      "2 2011-01-01 02:00:00     0.0     0.0     0.0     0.0     0.0     0.0     0.0   \n",
      "3 2011-01-01 03:00:00     0.0     0.0     0.0     0.0     0.0     0.0     0.0   \n",
      "4 2011-01-01 04:00:00     0.0     0.0     0.0     0.0     0.0     0.0     0.0   \n",
      "\n",
      "   MT_008  MT_009  ...  MT_361  MT_362  MT_363  MT_364  MT_365  MT_366   \n",
      "0     0.0     0.0  ...     0.0     0.0     0.0     0.0     0.0     0.0  \\\n",
      "1     0.0     0.0  ...     0.0     0.0     0.0     0.0     0.0     0.0   \n",
      "2     0.0     0.0  ...     0.0     0.0     0.0     0.0     0.0     0.0   \n",
      "3     0.0     0.0  ...     0.0     0.0     0.0     0.0     0.0     0.0   \n",
      "4     0.0     0.0  ...     0.0     0.0     0.0     0.0     0.0     0.0   \n",
      "\n",
      "   MT_367  MT_368  MT_369  MT_370  \n",
      "0     0.0     0.0     0.0     0.0  \n",
      "1     0.0     0.0     0.0     0.0  \n",
      "2     0.0     0.0     0.0     0.0  \n",
      "3     0.0     0.0     0.0     0.0  \n",
      "4     0.0     0.0     0.0     0.0  \n",
      "\n",
      "[5 rows x 371 columns]\n"
     ]
    }
   ],
   "source": [
    "# resample data from 15min level to hourly level:\n",
    "data_resamp = data_timecol.resample('1H', on='datetime').sum().reset_index()\n",
    "\n",
    "# check to see if resampling went through:\n",
    "print(data_resamp.head())"
   ]
  },
  {
   "attachments": {},
   "cell_type": "markdown",
   "metadata": {},
   "source": [
    "# to get tidy dataframe, use melt to pivot dataframe and get it vertically stacked:"
   ]
  },
  {
   "cell_type": "code",
   "execution_count": 13,
   "metadata": {},
   "outputs": [
    {
     "name": "stdout",
     "output_type": "stream",
     "text": [
      "             datetime  client_id  KwH\n",
      "0 2011-01-01 00:00:00          1  0.0\n",
      "1 2011-01-01 01:00:00          1  0.0\n",
      "2 2011-01-01 02:00:00          1  0.0\n",
      "3 2011-01-01 03:00:00          1  0.0\n",
      "4 2011-01-01 04:00:00          1  0.0\n"
     ]
    }
   ],
   "source": [
    "resampled_data = data_resamp\n",
    "\n",
    "# stack dataset by melting it (the value_name col will be recalculated after):\n",
    "melted_data = pd.melt(resampled_data, id_vars=['datetime'], var_name='client_id', value_name='KwH')\n",
    "\n",
    "# Remove 'MT_' from client_id col:\n",
    "melted_data['client_id'] = melted_data['client_id'].str.replace('MT_', '').astype(int)\n",
    "print(melted_data.head())"
   ]
  },
  {
   "attachments": {},
   "cell_type": "markdown",
   "metadata": {},
   "source": [
    "# For client data that started late and ended early, get first and last nonzero dates for each client:"
   ]
  },
  {
   "cell_type": "code",
   "execution_count": 15,
   "metadata": {},
   "outputs": [
    {
     "data": {
      "text/html": [
       "<div>\n",
       "<style scoped>\n",
       "    .dataframe tbody tr th:only-of-type {\n",
       "        vertical-align: middle;\n",
       "    }\n",
       "\n",
       "    .dataframe tbody tr th {\n",
       "        vertical-align: top;\n",
       "    }\n",
       "\n",
       "    .dataframe thead th {\n",
       "        text-align: right;\n",
       "    }\n",
       "</style>\n",
       "<table border=\"1\" class=\"dataframe\">\n",
       "  <thead>\n",
       "    <tr style=\"text-align: right;\">\n",
       "      <th></th>\n",
       "      <th>client_id</th>\n",
       "      <th>min</th>\n",
       "      <th>max</th>\n",
       "    </tr>\n",
       "  </thead>\n",
       "  <tbody>\n",
       "    <tr>\n",
       "      <th>365</th>\n",
       "      <td>366</td>\n",
       "      <td>2012-01-01</td>\n",
       "      <td>2015-01-01</td>\n",
       "    </tr>\n",
       "    <tr>\n",
       "      <th>366</th>\n",
       "      <td>367</td>\n",
       "      <td>2012-01-01</td>\n",
       "      <td>2015-01-01</td>\n",
       "    </tr>\n",
       "    <tr>\n",
       "      <th>367</th>\n",
       "      <td>368</td>\n",
       "      <td>2012-01-01</td>\n",
       "      <td>2015-01-01</td>\n",
       "    </tr>\n",
       "    <tr>\n",
       "      <th>368</th>\n",
       "      <td>369</td>\n",
       "      <td>2012-01-01</td>\n",
       "      <td>2015-01-01</td>\n",
       "    </tr>\n",
       "    <tr>\n",
       "      <th>369</th>\n",
       "      <td>370</td>\n",
       "      <td>2013-01-01</td>\n",
       "      <td>2015-01-01</td>\n",
       "    </tr>\n",
       "  </tbody>\n",
       "</table>\n",
       "</div>"
      ],
      "text/plain": [
       "     client_id        min        max\n",
       "365        366 2012-01-01 2015-01-01\n",
       "366        367 2012-01-01 2015-01-01\n",
       "367        368 2012-01-01 2015-01-01\n",
       "368        369 2012-01-01 2015-01-01\n",
       "369        370 2013-01-01 2015-01-01"
      ]
     },
     "execution_count": 15,
     "metadata": {},
     "output_type": "execute_result"
    }
   ],
   "source": [
    "cutoff_dates = melted_data[melted_data['KwH'] != 0].groupby('client_id', as_index=False).agg(\n",
    "    min=('datetime','min'),\n",
    "    max=('datetime','max')\n",
    "    )\n",
    "\n",
    "cutoff_dates.tail()\n",
    "melted_data.head()"
   ]
  },
  {
   "attachments": {},
   "cell_type": "markdown",
   "metadata": {},
   "source": [
    "# if client presents empty rows at the start or the end of the dataframe, get rid of it:"
   ]
  },
  {
   "cell_type": "code",
   "execution_count": 19,
   "metadata": {},
   "outputs": [
    {
     "data": {
      "text/html": [
       "<div>\n",
       "<style scoped>\n",
       "    .dataframe tbody tr th:only-of-type {\n",
       "        vertical-align: middle;\n",
       "    }\n",
       "\n",
       "    .dataframe tbody tr th {\n",
       "        vertical-align: top;\n",
       "    }\n",
       "\n",
       "    .dataframe thead th {\n",
       "        text-align: right;\n",
       "    }\n",
       "</style>\n",
       "<table border=\"1\" class=\"dataframe\">\n",
       "  <thead>\n",
       "    <tr style=\"text-align: right;\">\n",
       "      <th></th>\n",
       "      <th>datetime</th>\n",
       "      <th>client_id</th>\n",
       "      <th>KwH</th>\n",
       "    </tr>\n",
       "  </thead>\n",
       "  <tbody>\n",
       "    <tr>\n",
       "      <th>8760</th>\n",
       "      <td>2012-01-01 00:00:00</td>\n",
       "      <td>1</td>\n",
       "      <td>12.690355</td>\n",
       "    </tr>\n",
       "    <tr>\n",
       "      <th>8761</th>\n",
       "      <td>2012-01-01 01:00:00</td>\n",
       "      <td>1</td>\n",
       "      <td>16.497462</td>\n",
       "    </tr>\n",
       "    <tr>\n",
       "      <th>8762</th>\n",
       "      <td>2012-01-01 02:00:00</td>\n",
       "      <td>1</td>\n",
       "      <td>19.035533</td>\n",
       "    </tr>\n",
       "    <tr>\n",
       "      <th>8763</th>\n",
       "      <td>2012-01-01 03:00:00</td>\n",
       "      <td>1</td>\n",
       "      <td>17.766497</td>\n",
       "    </tr>\n",
       "    <tr>\n",
       "      <th>8764</th>\n",
       "      <td>2012-01-01 04:00:00</td>\n",
       "      <td>1</td>\n",
       "      <td>19.035533</td>\n",
       "    </tr>\n",
       "  </tbody>\n",
       "</table>\n",
       "</div>"
      ],
      "text/plain": [
       "                datetime  client_id        KwH\n",
       "8760 2012-01-01 00:00:00          1  12.690355\n",
       "8761 2012-01-01 01:00:00          1  16.497462\n",
       "8762 2012-01-01 02:00:00          1  19.035533\n",
       "8763 2012-01-01 03:00:00          1  17.766497\n",
       "8764 2012-01-01 04:00:00          1  19.035533"
      ]
     },
     "execution_count": 19,
     "metadata": {},
     "output_type": "execute_result"
    }
   ],
   "source": [
    "tmp = melted_data.copy()\n",
    "\n",
    "def filter_rows_before_after_date(df, cutoff_dates):\n",
    "    df = df.merge(cutoff_dates, on='client_id', how='left')\n",
    "    df['is_before_start'] = df['datetime'] < df['min']\n",
    "    df['is_after_end'] = df['datetime'] > df['max']\n",
    "    df.drop(df[df.is_before_start == True].index, inplace=True)\n",
    "    df.drop(df[df.is_after_end == True].index, inplace=True)\n",
    "    df.drop(['is_before_start', 'is_after_end', 'min', 'max'], axis=1, inplace=True)\n",
    "    return df\n",
    "\n",
    "melted_data = filter_rows_before_after_date(melted_data, cutoff_dates)\n",
    "melted_data.head()"
   ]
  }
 ],
 "metadata": {
  "kernelspec": {
   "display_name": ".venv",
   "language": "python",
   "name": "python3"
  },
  "language_info": {
   "codemirror_mode": {
    "name": "ipython",
    "version": 3
   },
   "file_extension": ".py",
   "mimetype": "text/x-python",
   "name": "python",
   "nbconvert_exporter": "python",
   "pygments_lexer": "ipython3",
   "version": "3.11.2"
  },
  "orig_nbformat": 4
 },
 "nbformat": 4,
 "nbformat_minor": 2
}
