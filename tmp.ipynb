{
 "cells": [
  {
   "cell_type": "code",
   "execution_count": 1,
   "metadata": {},
   "outputs": [],
   "source": [
    "import pandas as pd\n",
    "import datetime\n",
    "import numpy as np"
   ]
  },
  {
   "cell_type": "code",
   "execution_count": 3,
   "metadata": {},
   "outputs": [],
   "source": [
    "URL = \"https://archive.ics.uci.edu/ml/machine-learning-databases/00321/LD2011_2014.txt.zip\""
   ]
  },
  {
   "cell_type": "code",
   "execution_count": 4,
   "metadata": {},
   "outputs": [],
   "source": [
    "# Download the data and unzip it using Python\n",
    "import urllib.request\n",
    "import zipfile\n",
    "import io\n",
    "\n",
    "# Download the file from `URL` and save it locally under `file_name`:\n",
    "urllib.request.urlretrieve(URL, \"LD2011_2014.txt.zip\")\n",
    "\n",
    "# Unzip file:\n",
    "zip_ref = zipfile.ZipFile(\"LD2011_2014.txt.zip\", 'r')\n",
    "zip_ref.extractall()\n",
    "zip_ref.close()"
   ]
  },
  {
   "cell_type": "code",
   "execution_count": 7,
   "metadata": {},
   "outputs": [
    {
     "name": "stdout",
     "output_type": "stream",
     "text": [
      "<bound method DataFrame.info of                  Unnamed: 0    MT_001     MT_002    MT_003      MT_004   \n",
      "0       2011-01-01 00:15:00  0.000000   0.000000  0.000000    0.000000  \\\n",
      "1       2011-01-01 00:30:00  0.000000   0.000000  0.000000    0.000000   \n",
      "2       2011-01-01 00:45:00  0.000000   0.000000  0.000000    0.000000   \n",
      "3       2011-01-01 01:00:00  0.000000   0.000000  0.000000    0.000000   \n",
      "4       2011-01-01 01:15:00  0.000000   0.000000  0.000000    0.000000   \n",
      "...                     ...       ...        ...       ...         ...   \n",
      "140251  2014-12-31 23:00:00  2.538071  22.048364  1.737619  150.406504   \n",
      "140252  2014-12-31 23:15:00  2.538071  21.337127  1.737619  166.666667   \n",
      "140253  2014-12-31 23:30:00  2.538071  20.625889  1.737619  162.601626   \n",
      "140254  2014-12-31 23:45:00  1.269036  21.337127  1.737619  166.666667   \n",
      "140255  2015-01-01 00:00:00  2.538071  19.914651  1.737619  178.861789   \n",
      "\n",
      "           MT_005      MT_006     MT_007      MT_008     MT_009  ...   \n",
      "0        0.000000    0.000000   0.000000    0.000000   0.000000  ...  \\\n",
      "1        0.000000    0.000000   0.000000    0.000000   0.000000  ...   \n",
      "2        0.000000    0.000000   0.000000    0.000000   0.000000  ...   \n",
      "3        0.000000    0.000000   0.000000    0.000000   0.000000  ...   \n",
      "4        0.000000    0.000000   0.000000    0.000000   0.000000  ...   \n",
      "...           ...         ...        ...         ...        ...  ...   \n",
      "140251  85.365854  303.571429  11.305822  282.828283  68.181818  ...   \n",
      "140252  81.707317  324.404762  11.305822  252.525253  64.685315  ...   \n",
      "140253  82.926829  318.452381  10.175240  242.424242  61.188811  ...   \n",
      "140254  85.365854  285.714286  10.175240  225.589226  64.685315  ...   \n",
      "140255  84.146341  279.761905  10.175240  249.158249  62.937063  ...   \n",
      "\n",
      "            MT_361   MT_362       MT_363       MT_364     MT_365    MT_366   \n",
      "0         0.000000      0.0     0.000000     0.000000   0.000000  0.000000  \\\n",
      "1         0.000000      0.0     0.000000     0.000000   0.000000  0.000000   \n",
      "2         0.000000      0.0     0.000000     0.000000   0.000000  0.000000   \n",
      "3         0.000000      0.0     0.000000     0.000000   0.000000  0.000000   \n",
      "4         0.000000      0.0     0.000000     0.000000   0.000000  0.000000   \n",
      "...            ...      ...          ...          ...        ...       ...   \n",
      "140251  276.945039  28200.0  1616.033755  1363.636364  29.986962  5.851375   \n",
      "140252  279.800143  28300.0  1569.620253  1340.909091  29.986962  9.947338   \n",
      "140253  284.796574  27800.0  1556.962025  1318.181818  27.379400  9.362200   \n",
      "140254  246.252677  28000.0  1443.037975   909.090909  26.075619  4.095963   \n",
      "140255  188.436831  27800.0  1409.282700   954.545455  27.379400  4.095963   \n",
      "\n",
      "            MT_367      MT_368      MT_369       MT_370  \n",
      "0         0.000000    0.000000    0.000000     0.000000  \n",
      "1         0.000000    0.000000    0.000000     0.000000  \n",
      "2         0.000000    0.000000    0.000000     0.000000  \n",
      "3         0.000000    0.000000    0.000000     0.000000  \n",
      "4         0.000000    0.000000    0.000000     0.000000  \n",
      "...            ...         ...         ...          ...  \n",
      "140251  697.102722  176.961603  651.026393  7621.621622  \n",
      "140252  671.641791  168.614357  669.354839  6702.702703  \n",
      "140253  670.763828  153.589316  670.087977  6864.864865  \n",
      "140254  664.618086  146.911519  646.627566  6540.540541  \n",
      "140255  628.621598  131.886477  673.020528  7135.135135  \n",
      "\n",
      "[140256 rows x 371 columns]>\n",
      "<bound method NDFrame.head of                  Unnamed: 0    MT_001     MT_002    MT_003      MT_004   \n",
      "0       2011-01-01 00:15:00  0.000000   0.000000  0.000000    0.000000  \\\n",
      "1       2011-01-01 00:30:00  0.000000   0.000000  0.000000    0.000000   \n",
      "2       2011-01-01 00:45:00  0.000000   0.000000  0.000000    0.000000   \n",
      "3       2011-01-01 01:00:00  0.000000   0.000000  0.000000    0.000000   \n",
      "4       2011-01-01 01:15:00  0.000000   0.000000  0.000000    0.000000   \n",
      "...                     ...       ...        ...       ...         ...   \n",
      "140251  2014-12-31 23:00:00  2.538071  22.048364  1.737619  150.406504   \n",
      "140252  2014-12-31 23:15:00  2.538071  21.337127  1.737619  166.666667   \n",
      "140253  2014-12-31 23:30:00  2.538071  20.625889  1.737619  162.601626   \n",
      "140254  2014-12-31 23:45:00  1.269036  21.337127  1.737619  166.666667   \n",
      "140255  2015-01-01 00:00:00  2.538071  19.914651  1.737619  178.861789   \n",
      "\n",
      "           MT_005      MT_006     MT_007      MT_008     MT_009  ...   \n",
      "0        0.000000    0.000000   0.000000    0.000000   0.000000  ...  \\\n",
      "1        0.000000    0.000000   0.000000    0.000000   0.000000  ...   \n",
      "2        0.000000    0.000000   0.000000    0.000000   0.000000  ...   \n",
      "3        0.000000    0.000000   0.000000    0.000000   0.000000  ...   \n",
      "4        0.000000    0.000000   0.000000    0.000000   0.000000  ...   \n",
      "...           ...         ...        ...         ...        ...  ...   \n",
      "140251  85.365854  303.571429  11.305822  282.828283  68.181818  ...   \n",
      "140252  81.707317  324.404762  11.305822  252.525253  64.685315  ...   \n",
      "140253  82.926829  318.452381  10.175240  242.424242  61.188811  ...   \n",
      "140254  85.365854  285.714286  10.175240  225.589226  64.685315  ...   \n",
      "140255  84.146341  279.761905  10.175240  249.158249  62.937063  ...   \n",
      "\n",
      "            MT_361   MT_362       MT_363       MT_364     MT_365    MT_366   \n",
      "0         0.000000      0.0     0.000000     0.000000   0.000000  0.000000  \\\n",
      "1         0.000000      0.0     0.000000     0.000000   0.000000  0.000000   \n",
      "2         0.000000      0.0     0.000000     0.000000   0.000000  0.000000   \n",
      "3         0.000000      0.0     0.000000     0.000000   0.000000  0.000000   \n",
      "4         0.000000      0.0     0.000000     0.000000   0.000000  0.000000   \n",
      "...            ...      ...          ...          ...        ...       ...   \n",
      "140251  276.945039  28200.0  1616.033755  1363.636364  29.986962  5.851375   \n",
      "140252  279.800143  28300.0  1569.620253  1340.909091  29.986962  9.947338   \n",
      "140253  284.796574  27800.0  1556.962025  1318.181818  27.379400  9.362200   \n",
      "140254  246.252677  28000.0  1443.037975   909.090909  26.075619  4.095963   \n",
      "140255  188.436831  27800.0  1409.282700   954.545455  27.379400  4.095963   \n",
      "\n",
      "            MT_367      MT_368      MT_369       MT_370  \n",
      "0         0.000000    0.000000    0.000000     0.000000  \n",
      "1         0.000000    0.000000    0.000000     0.000000  \n",
      "2         0.000000    0.000000    0.000000     0.000000  \n",
      "3         0.000000    0.000000    0.000000     0.000000  \n",
      "4         0.000000    0.000000    0.000000     0.000000  \n",
      "...            ...         ...         ...          ...  \n",
      "140251  697.102722  176.961603  651.026393  7621.621622  \n",
      "140252  671.641791  168.614357  669.354839  6702.702703  \n",
      "140253  670.763828  153.589316  670.087977  6864.864865  \n",
      "140254  664.618086  146.911519  646.627566  6540.540541  \n",
      "140255  628.621598  131.886477  673.020528  7135.135135  \n",
      "\n",
      "[140256 rows x 371 columns]>\n"
     ]
    }
   ],
   "source": [
    "# open raw file downloaded to local machine:\n",
    "raw_file_path = 'LD2011_2014.txt'\n",
    "#raw_file = open(str(raw_file_path))\n",
    "\n",
    "# use raw file to read csv and get raw dataframe:\n",
    "raw_dataset = pd.read_csv(raw_file_path, delimiter=';', header=0, decimal=',', index_col=False, low_memory=False)\n"
   ]
  },
  {
   "cell_type": "code",
   "execution_count": 12,
   "metadata": {},
   "outputs": [
    {
     "name": "stdout",
     "output_type": "stream",
     "text": [
      "<class 'pandas.core.frame.DataFrame'>\n",
      "RangeIndex: 140256 entries, 0 to 140255\n",
      "Columns: 371 entries, Unnamed: 0 to MT_370\n",
      "dtypes: float64(370), object(1)\n",
      "memory usage: 397.0+ MB\n",
      "None\n",
      "            Unnamed: 0  MT_001  MT_002  MT_003  MT_004  MT_005  MT_006   \n",
      "0  2011-01-01 00:15:00     0.0     0.0     0.0     0.0     0.0     0.0  \\\n",
      "1  2011-01-01 00:30:00     0.0     0.0     0.0     0.0     0.0     0.0   \n",
      "2  2011-01-01 00:45:00     0.0     0.0     0.0     0.0     0.0     0.0   \n",
      "3  2011-01-01 01:00:00     0.0     0.0     0.0     0.0     0.0     0.0   \n",
      "4  2011-01-01 01:15:00     0.0     0.0     0.0     0.0     0.0     0.0   \n",
      "\n",
      "   MT_007  MT_008  MT_009  ...  MT_361  MT_362  MT_363  MT_364  MT_365   \n",
      "0     0.0     0.0     0.0  ...     0.0     0.0     0.0     0.0     0.0  \\\n",
      "1     0.0     0.0     0.0  ...     0.0     0.0     0.0     0.0     0.0   \n",
      "2     0.0     0.0     0.0  ...     0.0     0.0     0.0     0.0     0.0   \n",
      "3     0.0     0.0     0.0  ...     0.0     0.0     0.0     0.0     0.0   \n",
      "4     0.0     0.0     0.0  ...     0.0     0.0     0.0     0.0     0.0   \n",
      "\n",
      "   MT_366  MT_367  MT_368  MT_369  MT_370  \n",
      "0     0.0     0.0     0.0     0.0     0.0  \n",
      "1     0.0     0.0     0.0     0.0     0.0  \n",
      "2     0.0     0.0     0.0     0.0     0.0  \n",
      "3     0.0     0.0     0.0     0.0     0.0  \n",
      "4     0.0     0.0     0.0     0.0     0.0  \n",
      "\n",
      "[5 rows x 371 columns]\n"
     ]
    }
   ],
   "source": [
    "# check dataframe info and head:\n",
    "print(raw_dataset.info())\n",
    "print(raw_dataset.head())"
   ]
  },
  {
   "cell_type": "code",
   "execution_count": 13,
   "metadata": {},
   "outputs": [
    {
     "name": "stdout",
     "output_type": "stream",
     "text": [
      "datetime     object\n",
      "MT_001      float64\n",
      "MT_002      float64\n",
      "MT_003      float64\n",
      "MT_004      float64\n",
      "             ...   \n",
      "MT_366      float64\n",
      "MT_367      float64\n",
      "MT_368      float64\n",
      "MT_369      float64\n",
      "MT_370      float64\n",
      "Length: 371, dtype: object\n"
     ]
    }
   ],
   "source": [
    "# since column with datetime values doesn't have name, rename it to 'datetime':\n",
    "data_timecol = raw_dataset.rename(columns={'Unnamed: 0':'datetime'})\n",
    "\n",
    "# check dtypes for dataframe:\n",
    "print(data_timecol.dtypes)\n",
    "\n",
    "# transform rennamed column into datetime dtype:\n",
    "data_timecol['datetime'] = pd.to_datetime(data_timecol['datetime'], format='%Y-%m-%d %H:%M:%S')"
   ]
  },
  {
   "cell_type": "code",
   "execution_count": 16,
   "metadata": {},
   "outputs": [
    {
     "name": "stdout",
     "output_type": "stream",
     "text": [
      "float64           370\n",
      "datetime64[ns]      1\n",
      "Name: count, dtype: int64\n"
     ]
    }
   ],
   "source": [
    "# Count total of columns per dtypes:\n",
    "print(data_timecol.dtypes.value_counts())\n"
   ]
  },
  {
   "cell_type": "code",
   "execution_count": 24,
   "metadata": {},
   "outputs": [
    {
     "name": "stdout",
     "output_type": "stream",
     "text": [
      "             datetime  MT_001  MT_002  MT_003  MT_004  MT_005  MT_006  MT_007   \n",
      "0 2011-01-01 00:00:00     0.0     0.0     0.0     0.0     0.0     0.0     0.0  \\\n",
      "1 2011-01-01 01:00:00     0.0     0.0     0.0     0.0     0.0     0.0     0.0   \n",
      "2 2011-01-01 02:00:00     0.0     0.0     0.0     0.0     0.0     0.0     0.0   \n",
      "3 2011-01-01 03:00:00     0.0     0.0     0.0     0.0     0.0     0.0     0.0   \n",
      "4 2011-01-01 04:00:00     0.0     0.0     0.0     0.0     0.0     0.0     0.0   \n",
      "\n",
      "   MT_008  MT_009  ...  MT_361  MT_362  MT_363  MT_364  MT_365  MT_366   \n",
      "0     0.0     0.0  ...     0.0     0.0     0.0     0.0     0.0     0.0  \\\n",
      "1     0.0     0.0  ...     0.0     0.0     0.0     0.0     0.0     0.0   \n",
      "2     0.0     0.0  ...     0.0     0.0     0.0     0.0     0.0     0.0   \n",
      "3     0.0     0.0  ...     0.0     0.0     0.0     0.0     0.0     0.0   \n",
      "4     0.0     0.0  ...     0.0     0.0     0.0     0.0     0.0     0.0   \n",
      "\n",
      "   MT_367  MT_368  MT_369  MT_370  \n",
      "0     0.0     0.0     0.0     0.0  \n",
      "1     0.0     0.0     0.0     0.0  \n",
      "2     0.0     0.0     0.0     0.0  \n",
      "3     0.0     0.0     0.0     0.0  \n",
      "4     0.0     0.0     0.0     0.0  \n",
      "\n",
      "[5 rows x 371 columns]\n"
     ]
    }
   ],
   "source": [
    "# resample data from 15min level to day level:\n",
    "data_resamp = data_timecol.resample('1H', on='datetime').sum().reset_index()\n",
    "\n",
    "# check to see if resampling went through:\n",
    "print(data_resamp.head())"
   ]
  },
  {
   "cell_type": "code",
   "execution_count": null,
   "metadata": {},
   "outputs": [],
   "source": [
    "# before going on, lets remove the 'MT_' from the column names:\n",
    "# first, create a dictionary of old and new column names, with new names as integers:\n",
    "#new_column_names = {col: col.replace('MT_', '') for col in resampled_data.columns if 'MT_' in col}\n",
    "# next, use dictionary to rename old columns:\n",
    "#resampled_data = resampled_data.rename(columns=new_column_names)"
   ]
  },
  {
   "cell_type": "code",
   "execution_count": 27,
   "metadata": {},
   "outputs": [
    {
     "name": "stdout",
     "output_type": "stream",
     "text": [
      "             datetime  client_id  KwH\n",
      "0 2011-01-01 00:00:00          1  0.0\n",
      "1 2011-01-01 01:00:00          1  0.0\n",
      "2 2011-01-01 02:00:00          1  0.0\n",
      "3 2011-01-01 03:00:00          1  0.0\n",
      "4 2011-01-01 04:00:00          1  0.0\n"
     ]
    }
   ],
   "source": [
    "resampled_data = data_resamp\n",
    "\n",
    "# stack dataset by melting it (the value_name col will be recalculated after):\n",
    "melted_data = pd.melt(resampled_data, id_vars=['datetime'], var_name='client_id', value_name='KwH')\n",
    "# check changes: print(melted_data.head)\n",
    "# change client_id col to int:\n",
    "#melted_data['client_id'] = melted_data['client_id'].astype(int)\n",
    "# Remove 'MT_' from client_id col:\n",
    "melted_data['client_id'] = melted_data['client_id'].str.replace('MT_', '').astype(int)\n",
    "# check changes: print(melted_data.dtypes)\n",
    "# check head:\n",
    "print(melted_data.head())"
   ]
  },
  {
   "cell_type": "code",
   "execution_count": 28,
   "metadata": {},
   "outputs": [
    {
     "data": {
      "text/plain": [
       "MultiIndex([('2011-12-12 05:00:00',   1),\n",
       "            ('2011-12-12 05:00:00',   2),\n",
       "            ('2011-12-12 05:00:00',   3),\n",
       "            ('2011-12-12 05:00:00',   4),\n",
       "            ('2011-12-12 05:00:00',   5),\n",
       "            ('2011-12-12 05:00:00',   6),\n",
       "            ('2011-12-12 05:00:00',   7),\n",
       "            ('2011-12-12 05:00:00',   8),\n",
       "            ('2011-12-12 05:00:00',   9),\n",
       "            ('2011-12-12 05:00:00',  10),\n",
       "            ...\n",
       "            ('2014-04-26 04:00:00', 361),\n",
       "            ('2014-04-26 04:00:00', 362),\n",
       "            ('2014-04-26 04:00:00', 363),\n",
       "            ('2014-04-26 04:00:00', 364),\n",
       "            ('2014-04-26 04:00:00', 365),\n",
       "            ('2014-04-26 04:00:00', 366),\n",
       "            ('2014-04-26 04:00:00', 367),\n",
       "            ('2014-04-26 04:00:00', 368),\n",
       "            ('2014-04-26 04:00:00', 369),\n",
       "            ('2014-04-26 04:00:00', 370)],\n",
       "           length=12974050)"
      ]
     },
     "execution_count": 28,
     "metadata": {},
     "output_type": "execute_result"
    }
   ],
   "source": [
    "complete_idx = pd.MultiIndex.from_product((set(melted_data.datetime), set(melted_data.client_id)))\n",
    "complete_idx"
   ]
  },
  {
   "cell_type": "code",
   "execution_count": 55,
   "metadata": {},
   "outputs": [
    {
     "data": {
      "text/html": [
       "<div>\n",
       "<style scoped>\n",
       "    .dataframe tbody tr th:only-of-type {\n",
       "        vertical-align: middle;\n",
       "    }\n",
       "\n",
       "    .dataframe tbody tr th {\n",
       "        vertical-align: top;\n",
       "    }\n",
       "\n",
       "    .dataframe thead th {\n",
       "        text-align: right;\n",
       "    }\n",
       "</style>\n",
       "<table border=\"1\" class=\"dataframe\">\n",
       "  <thead>\n",
       "    <tr style=\"text-align: right;\">\n",
       "      <th></th>\n",
       "      <th>datetime</th>\n",
       "      <th>client_id</th>\n",
       "      <th>KwH</th>\n",
       "    </tr>\n",
       "  </thead>\n",
       "  <tbody>\n",
       "    <tr>\n",
       "      <th>7967210</th>\n",
       "      <td>2011-01-01 00:00:00</td>\n",
       "      <td>1</td>\n",
       "      <td>0.0</td>\n",
       "    </tr>\n",
       "    <tr>\n",
       "      <th>10964950</th>\n",
       "      <td>2011-01-01 01:00:00</td>\n",
       "      <td>1</td>\n",
       "      <td>0.0</td>\n",
       "    </tr>\n",
       "    <tr>\n",
       "      <th>1776000</th>\n",
       "      <td>2011-01-01 02:00:00</td>\n",
       "      <td>1</td>\n",
       "      <td>0.0</td>\n",
       "    </tr>\n",
       "    <tr>\n",
       "      <th>3534240</th>\n",
       "      <td>2011-01-01 03:00:00</td>\n",
       "      <td>1</td>\n",
       "      <td>0.0</td>\n",
       "    </tr>\n",
       "    <tr>\n",
       "      <th>4898800</th>\n",
       "      <td>2011-01-01 04:00:00</td>\n",
       "      <td>1</td>\n",
       "      <td>0.0</td>\n",
       "    </tr>\n",
       "  </tbody>\n",
       "</table>\n",
       "</div>"
      ],
      "text/plain": [
       "                    datetime  client_id  KwH\n",
       "7967210  2011-01-01 00:00:00          1  0.0\n",
       "10964950 2011-01-01 01:00:00          1  0.0\n",
       "1776000  2011-01-01 02:00:00          1  0.0\n",
       "3534240  2011-01-01 03:00:00          1  0.0\n",
       "4898800  2011-01-01 04:00:00          1  0.0"
      ]
     },
     "execution_count": 55,
     "metadata": {},
     "output_type": "execute_result"
    }
   ],
   "source": [
    "all_melted_data = melted_data.set_index(['datetime','client_id']).reindex(complete_idx, fill_value=0).reset_index()\n",
    "all_melted_data.columns = ['datetime','client_id','KwH']\n",
    "all_melted_data = all_melted_data.sort_values(['client_id','datetime'])\n",
    "all_melted_data.head()"
   ]
  },
  {
   "cell_type": "code",
   "execution_count": 49,
   "metadata": {},
   "outputs": [
    {
     "data": {
      "text/html": [
       "<div>\n",
       "<style scoped>\n",
       "    .dataframe tbody tr th:only-of-type {\n",
       "        vertical-align: middle;\n",
       "    }\n",
       "\n",
       "    .dataframe tbody tr th {\n",
       "        vertical-align: top;\n",
       "    }\n",
       "\n",
       "    .dataframe thead th {\n",
       "        text-align: right;\n",
       "    }\n",
       "</style>\n",
       "<table border=\"1\" class=\"dataframe\">\n",
       "  <thead>\n",
       "    <tr style=\"text-align: right;\">\n",
       "      <th></th>\n",
       "      <th>client_id</th>\n",
       "      <th>min</th>\n",
       "      <th>max</th>\n",
       "    </tr>\n",
       "  </thead>\n",
       "  <tbody>\n",
       "    <tr>\n",
       "      <th>365</th>\n",
       "      <td>366</td>\n",
       "      <td>2012-01-01</td>\n",
       "      <td>2015-01-01</td>\n",
       "    </tr>\n",
       "    <tr>\n",
       "      <th>366</th>\n",
       "      <td>367</td>\n",
       "      <td>2012-01-01</td>\n",
       "      <td>2015-01-01</td>\n",
       "    </tr>\n",
       "    <tr>\n",
       "      <th>367</th>\n",
       "      <td>368</td>\n",
       "      <td>2012-01-01</td>\n",
       "      <td>2015-01-01</td>\n",
       "    </tr>\n",
       "    <tr>\n",
       "      <th>368</th>\n",
       "      <td>369</td>\n",
       "      <td>2012-01-01</td>\n",
       "      <td>2015-01-01</td>\n",
       "    </tr>\n",
       "    <tr>\n",
       "      <th>369</th>\n",
       "      <td>370</td>\n",
       "      <td>2013-01-01</td>\n",
       "      <td>2015-01-01</td>\n",
       "    </tr>\n",
       "  </tbody>\n",
       "</table>\n",
       "</div>"
      ],
      "text/plain": [
       "     client_id        min        max\n",
       "365        366 2012-01-01 2015-01-01\n",
       "366        367 2012-01-01 2015-01-01\n",
       "367        368 2012-01-01 2015-01-01\n",
       "368        369 2012-01-01 2015-01-01\n",
       "369        370 2013-01-01 2015-01-01"
      ]
     },
     "execution_count": 49,
     "metadata": {},
     "output_type": "execute_result"
    }
   ],
   "source": [
    "cutoff_dates = all_melted_data[all_melted_data['KwH'] != 0].groupby('client_id', as_index=False).agg(\n",
    "    min=('datetime','min'),\n",
    "    max=('datetime','max')\n",
    "    )\n",
    "\n",
    "cutoff_dates.tail()"
   ]
  },
  {
   "cell_type": "code",
   "execution_count": null,
   "metadata": {},
   "outputs": [],
   "source": [
    "# remove dates before first and after last nonzero info for each client:\n",
    "for _, row in cutoff_dates.iterrows():\n",
    "    client_id = row['client_id']\n",
    "    start_date = row['min']\n",
    "    end_date = row['max']\n",
    "    all_melted_data.drop(all_melted_data[all_melted_data.client_id == client_id][all_melted_data.datetime < start_date].index, inplace=True)\n",
    "    all_melted_data.drop(all_melted_data[all_melted_data.client_id == client_id][all_melted_data.datetime > end_date].index, inplace=True)"
   ]
  },
  {
   "cell_type": "code",
   "execution_count": 56,
   "metadata": {},
   "outputs": [
    {
     "data": {
      "text/html": [
       "<div>\n",
       "<style scoped>\n",
       "    .dataframe tbody tr th:only-of-type {\n",
       "        vertical-align: middle;\n",
       "    }\n",
       "\n",
       "    .dataframe tbody tr th {\n",
       "        vertical-align: top;\n",
       "    }\n",
       "\n",
       "    .dataframe thead th {\n",
       "        text-align: right;\n",
       "    }\n",
       "</style>\n",
       "<table border=\"1\" class=\"dataframe\">\n",
       "  <thead>\n",
       "    <tr style=\"text-align: right;\">\n",
       "      <th></th>\n",
       "      <th>datetime</th>\n",
       "      <th>client_id</th>\n",
       "      <th>KwH</th>\n",
       "    </tr>\n",
       "  </thead>\n",
       "  <tbody>\n",
       "    <tr>\n",
       "      <th>7967210</th>\n",
       "      <td>2011-01-01 00:00:00</td>\n",
       "      <td>1</td>\n",
       "      <td>0.0</td>\n",
       "    </tr>\n",
       "    <tr>\n",
       "      <th>10964950</th>\n",
       "      <td>2011-01-01 01:00:00</td>\n",
       "      <td>1</td>\n",
       "      <td>0.0</td>\n",
       "    </tr>\n",
       "    <tr>\n",
       "      <th>1776000</th>\n",
       "      <td>2011-01-01 02:00:00</td>\n",
       "      <td>1</td>\n",
       "      <td>0.0</td>\n",
       "    </tr>\n",
       "    <tr>\n",
       "      <th>3534240</th>\n",
       "      <td>2011-01-01 03:00:00</td>\n",
       "      <td>1</td>\n",
       "      <td>0.0</td>\n",
       "    </tr>\n",
       "    <tr>\n",
       "      <th>4898800</th>\n",
       "      <td>2011-01-01 04:00:00</td>\n",
       "      <td>1</td>\n",
       "      <td>0.0</td>\n",
       "    </tr>\n",
       "  </tbody>\n",
       "</table>\n",
       "</div>"
      ],
      "text/plain": [
       "                    datetime  client_id  KwH\n",
       "7967210  2011-01-01 00:00:00          1  0.0\n",
       "10964950 2011-01-01 01:00:00          1  0.0\n",
       "1776000  2011-01-01 02:00:00          1  0.0\n",
       "3534240  2011-01-01 03:00:00          1  0.0\n",
       "4898800  2011-01-01 04:00:00          1  0.0"
      ]
     },
     "execution_count": 56,
     "metadata": {},
     "output_type": "execute_result"
    }
   ],
   "source": [
    "all_melted_data.head()"
   ]
  },
  {
   "cell_type": "code",
   "execution_count": 59,
   "metadata": {},
   "outputs": [
    {
     "data": {
      "text/html": [
       "<div>\n",
       "<style scoped>\n",
       "    .dataframe tbody tr th:only-of-type {\n",
       "        vertical-align: middle;\n",
       "    }\n",
       "\n",
       "    .dataframe tbody tr th {\n",
       "        vertical-align: top;\n",
       "    }\n",
       "\n",
       "    .dataframe thead th {\n",
       "        text-align: right;\n",
       "    }\n",
       "</style>\n",
       "<table border=\"1\" class=\"dataframe\">\n",
       "  <thead>\n",
       "    <tr style=\"text-align: right;\">\n",
       "      <th></th>\n",
       "      <th>datetime</th>\n",
       "      <th>client_id</th>\n",
       "      <th>KwH</th>\n",
       "    </tr>\n",
       "  </thead>\n",
       "  <tbody>\n",
       "    <tr>\n",
       "      <th>8760</th>\n",
       "      <td>2012-01-01 00:00:00</td>\n",
       "      <td>1</td>\n",
       "      <td>12.690355</td>\n",
       "    </tr>\n",
       "    <tr>\n",
       "      <th>8761</th>\n",
       "      <td>2012-01-01 01:00:00</td>\n",
       "      <td>1</td>\n",
       "      <td>16.497462</td>\n",
       "    </tr>\n",
       "    <tr>\n",
       "      <th>8762</th>\n",
       "      <td>2012-01-01 02:00:00</td>\n",
       "      <td>1</td>\n",
       "      <td>19.035533</td>\n",
       "    </tr>\n",
       "    <tr>\n",
       "      <th>8763</th>\n",
       "      <td>2012-01-01 03:00:00</td>\n",
       "      <td>1</td>\n",
       "      <td>17.766497</td>\n",
       "    </tr>\n",
       "    <tr>\n",
       "      <th>8764</th>\n",
       "      <td>2012-01-01 04:00:00</td>\n",
       "      <td>1</td>\n",
       "      <td>19.035533</td>\n",
       "    </tr>\n",
       "  </tbody>\n",
       "</table>\n",
       "</div>"
      ],
      "text/plain": [
       "                datetime  client_id        KwH\n",
       "8760 2012-01-01 00:00:00          1  12.690355\n",
       "8761 2012-01-01 01:00:00          1  16.497462\n",
       "8762 2012-01-01 02:00:00          1  19.035533\n",
       "8763 2012-01-01 03:00:00          1  17.766497\n",
       "8764 2012-01-01 04:00:00          1  19.035533"
      ]
     },
     "execution_count": 59,
     "metadata": {},
     "output_type": "execute_result"
    }
   ],
   "source": [
    "tmp = all_melted_data.copy()\n",
    "\n",
    "def filter_rows_before_after_date(df, cutoff_dates):\n",
    "    df = df.merge(cutoff_dates, on='client_id', how='left')\n",
    "    df['is_before_start'] = df['datetime'] < df['min']\n",
    "    df['is_after_end'] = df['datetime'] > df['max']\n",
    "    df.drop(df[df.is_before_start == True].index, inplace=True)\n",
    "    df.drop(df[df.is_after_end == True].index, inplace=True)\n",
    "    df.drop(['is_before_start', 'is_after_end', 'min', 'max'], axis=1, inplace=True)\n",
    "    return df\n",
    "\n",
    "all_melted_data = filter_rows_before_after_date(all_melted_data, cutoff_dates)\n",
    "all_melted_data.head()"
   ]
  },
  {
   "cell_type": "code",
   "execution_count": null,
   "metadata": {},
   "outputs": [],
   "source": []
  }
 ],
 "metadata": {
  "kernelspec": {
   "display_name": ".venv",
   "language": "python",
   "name": "python3"
  },
  "language_info": {
   "codemirror_mode": {
    "name": "ipython",
    "version": 3
   },
   "file_extension": ".py",
   "mimetype": "text/x-python",
   "name": "python",
   "nbconvert_exporter": "python",
   "pygments_lexer": "ipython3",
   "version": "3.10.6"
  },
  "orig_nbformat": 4
 },
 "nbformat": 4,
 "nbformat_minor": 2
}
